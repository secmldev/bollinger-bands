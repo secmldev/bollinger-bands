{
 "cells": [
  {
   "cell_type": "code",
   "execution_count": null,
   "metadata": {},
   "outputs": [],
   "source": [
    "- price walking the outer band\n",
    "- standard deviation on moving average\n",
    "- moving window\n",
    "- moving average (macd, rsi, roc)\n",
    "- moving maximum\n",
    "- moving minimum\n",
    "- moving median\n",
    "- moving standard deviation\n",
    "- moving threshold\n",
    "- buy and sell signal\n"
   ]
  },
  {
   "cell_type": "markdown",
   "metadata": {},
   "source": [
    "## Bollinger Bands\n",
    "- Average\n",
    "- Standard deviation arond average"
   ]
  },
  {
   "cell_type": "markdown",
   "metadata": {},
   "source": [
    "- Moving average\n",
    "- Moving standard deviation"
   ]
  },
  {
   "cell_type": "markdown",
   "metadata": {},
   "source": [
    "MA +- 2 * std"
   ]
  },
  {
   "cell_type": "markdown",
   "metadata": {},
   "source": [
    "### Combine Indicator\n",
    "- The Bollinger Bands\n",
    "- The RSI indicator\n"
   ]
  },
  {
   "cell_type": "markdown",
   "metadata": {},
   "source": [
    "### strategy teaches you\n",
    "- How to read bollinger bands\n",
    "- Bollinger band signals\n",
    "- bollinger bands squeeze\n",
    "- double bollinger bands strategy\n",
    "- bollinger bands secrets"
   ]
  },
  {
   "cell_type": "markdown",
   "metadata": {},
   "source": [
    "![](img/Bolling-Bands-Bounce-Picture.png)"
   ]
  },
  {
   "cell_type": "markdown",
   "metadata": {},
   "source": [
    "- Created by John Bollinger in the early 1980s. \n",
    "- The purpose of these bands is to give you a relative definition of high and low. \n",
    "- The prices are high at the upper band and then are low at the lower band. \n",
    "- Bollinger bands include three different lines. \n",
    "    - The upper band\n",
    "    - The middle band\n",
    "    - Lower band. \n",
    "    - The middle band basically serves as a base for both the upper and lower.\n",
    "\n",
    "- They are mainly used when determining when there are overbought or oversold levels. \n",
    "- Selling when the price touches the upper band\n",
    "- Buying when the price touches the lower band."
   ]
  },
  {
   "cell_type": "markdown",
   "metadata": {},
   "source": [
    "- The spacing in between the lower, upper, and the middle band is determined by volatility. \n",
    "- The middle band consists of a 20 period moving average, while the upper and lower are two standard deviations below and above the moving average in the middle. \n",
    "- All standard deviation means is that it is a statistical measure that offers a great reflection of the price volatility.\n",
    "\n",
    "- When you see the band widen that simply means that there is volatility at that time. \n",
    "- When the price moves very little, the band will narrow which means that there is little volatility.\n"
   ]
  },
  {
   "cell_type": "code",
   "execution_count": null,
   "metadata": {},
   "outputs": [],
   "source": []
  },
  {
   "cell_type": "code",
   "execution_count": null,
   "metadata": {},
   "outputs": [],
   "source": []
  },
  {
   "cell_type": "markdown",
   "metadata": {},
   "source": [
    "![](img/Different-Bollinger-Bands.png)"
   ]
  },
  {
   "cell_type": "markdown",
   "metadata": {},
   "source": []
  },
  {
   "cell_type": "markdown",
   "metadata": {},
   "source": [
    "After examining the picture, it may seem wise to buy every time the price hits the lower band or sell every time the price hits the upper band. This can technically work, but is a risky way of trading using the Bollinger Bands.  Sometimes strong trends will ride these bands and end up stopping out many unfortunate traders who used that method. This is why we are using the RSI indicator to help confirm and trade the “bounce” of an upper or a lower band. Also read the way bankers trade in forex market. Also read the way bankers trade in forex market."
   ]
  },
  {
   "cell_type": "markdown",
   "metadata": {},
   "source": [
    "The RSI indicator is used in this strategy to see how the currency is weakening or strengthening. (Tap here for another RSI trading strategy article)\n",
    "\n",
    "These indicators should come standard on your trading platform. There is no need to adjust these, as we will use the default settings. Here You can learn on How to fade the momentum in Forex Trading.\n",
    "\n",
    "The only element would suggest performing before you start, is to draw a horizontal line on the 50.00 level in the RSI indicator. You will find out exactly why soon.\n",
    "\n",
    "Trading Indicators Used with the Bollinger Bands Bounce Trading Strategy:\n",
    "\n",
    "Bollinger Bands (20, 2)\n",
    "\n",
    "RSI (Relative Strength Index) Indicator (14)"
   ]
  },
  {
   "cell_type": "code",
   "execution_count": null,
   "metadata": {},
   "outputs": [],
   "source": []
  },
  {
   "cell_type": "markdown",
   "metadata": {},
   "source": []
  },
  {
   "cell_type": "markdown",
   "metadata": {},
   "source": [
    "Rule #1: Find a currency that is in an Uptrend/Downtrend.\n",
    "Finding a trending market is very simple. You can use channels, trend lines, Fibonacci lines, to determine a trend. Find higher highs or lower lows and place a trend line on them. If the line is going up it is an uptrend, if its going down, it is a downtrend. It needs to be trending up or down, not a sideways trend."
   ]
  },
  {
   "cell_type": "markdown",
   "metadata": {},
   "source": [
    "![](img/Trend-Bollinger-Bands-Picture-1024x507.png)"
   ]
  },
  {
   "cell_type": "code",
   "execution_count": 1,
   "metadata": {},
   "outputs": [
    {
     "ename": "NameError",
     "evalue": "name 'Rule' is not defined",
     "output_type": "error",
     "traceback": [
      "\u001b[1;31m---------------------------------------------------------------------------\u001b[0m",
      "\u001b[1;31mNameError\u001b[0m                                 Traceback (most recent call last)",
      "\u001b[1;32m~\\AppData\\Local\\Temp/ipykernel_10412/4030822166.py\u001b[0m in \u001b[0;36m<module>\u001b[1;34m\u001b[0m\n\u001b[1;32m----> 1\u001b[1;33m \u001b[0mRule\u001b[0m \u001b[1;31m#2: The currency must fall back (from the uptrend) and touch, or almost touches, the bottom band.\u001b[0m\u001b[1;33m\u001b[0m\u001b[1;33m\u001b[0m\u001b[0m\n\u001b[0m",
      "\u001b[1;31mNameError\u001b[0m: name 'Rule' is not defined"
     ]
    }
   ],
   "source": [
    "Rule #2: The currency must fall back (from the uptrend) and touch, or almost touches, the bottom band."
   ]
  },
  {
   "cell_type": "markdown",
   "metadata": {},
   "source": [
    "![](img/Lines-Bollinger-Bands.png)"
   ]
  },
  {
   "cell_type": "markdown",
   "metadata": {},
   "source": [
    "Rule #3: Once the Price hits the lower Bollinger band, look at the RSI indicator and it should be between 30-50 and be rising."
   ]
  },
  {
   "cell_type": "markdown",
   "metadata": {},
   "source": [
    "![](img/Bollinger-Bands-RSI.png)"
   ]
  },
  {
   "cell_type": "markdown",
   "metadata": {},
   "source": [
    "The price hit the Bollinger band, the RSI (when the price touches the bottom band) needs to be in between 50 and 30. If it is not here and let’s just say it was at the 80 mark, then that would not be something you would be interested in trading."
   ]
  },
  {
   "cell_type": "markdown",
   "metadata": {},
   "source": [
    "You want to see the RSI go up, in this case, in the direction of the trade. Remember that it should be in between the 30-50 mark. (In a sell trade the RSI would need to be in between the 50-70 mark and going downward.)"
   ]
  },
  {
   "cell_type": "markdown",
   "metadata": {},
   "source": [
    "![](img/RSI-moving-up.png)"
   ]
  },
  {
   "cell_type": "markdown",
   "metadata": {},
   "source": [
    "Once you see this movement you go ahead and look for an entry."
   ]
  },
  {
   "cell_type": "markdown",
   "metadata": {},
   "source": [
    "Rule #4: After price hits lower Bollinger band, and RSI is going upwards, make entry when…"
   ]
  },
  {
   "cell_type": "markdown",
   "metadata": {},
   "source": [
    "You can make an entry when you either see a STRONG BULLISH candle to the upside, you see consecutive reversal candles to the upside, or you find a bullish pattern forming. You need to see that the trend is moving upwards, in this case, before you enter a trade.\n",
    "\n",
    "If the candlesticks are moving to a point where it is making a new low, this would not be a good time to enter a trade. However, once the candles fail to make a new a low watch to see if it forms a bullish formation. Here is an example of master candle setup.\n",
    "\n",
    "In this example, I bumped down to a one hour chart to make an entry. This is perfectly fine to do. This could give you a more accurate place to make an entry point. As I said, the 4 hour and 1-minute time frames are the preferred time frames for this strategy. Yes, there is less of an opportunity for a trade, but the signals are very strong when you are in a higher time frame."
   ]
  },
  {
   "cell_type": "markdown",
   "metadata": {},
   "source": [
    "![](img/Entry-Strategy-Bollinger-Bands.png)"
   ]
  },
  {
   "cell_type": "markdown",
   "metadata": {},
   "source": []
  },
  {
   "cell_type": "markdown",
   "metadata": {},
   "source": [
    "Rule #5: Stop loss/ Take Profit Target\n"
   ]
  },
  {
   "cell_type": "markdown",
   "metadata": {},
   "source": [
    "Always remember to be placing a stop loss, and having a good target area. With this strategy, we recommend using a 30-50 pip stop."
   ]
  },
  {
   "cell_type": "markdown",
   "metadata": {},
   "source": [
    "![](img/Bollinger-Bands-Strategy.png)"
   ]
  },
  {
   "cell_type": "markdown",
   "metadata": {},
   "source": [
    "Your take profit can be when the price touches the other Bollinger bands."
   ]
  },
  {
   "cell_type": "markdown",
   "metadata": {},
   "source": [
    "Conclusion\n",
    "The Bollinger bands are a great indicator to use in any market. When you combine these with the RSI indicator, it should give you great entry points. Here is another strategy called trading volume in forex.\n",
    "\n",
    "Something else you can consider is when the price touches the middle band you can make a second entry to press your winners. This can potentially give you double the profit. With this strategy, we only use the one trade that we initially make, but if your rules allow you to make multiple trades at a time with the same currency pair, then adding a second position at the middle line may be something you would want to consider.H"
   ]
  },
  {
   "cell_type": "code",
   "execution_count": null,
   "metadata": {},
   "outputs": [],
   "source": []
  }
 ],
 "metadata": {
  "kernelspec": {
   "display_name": "Python 3 (ipykernel)",
   "language": "python",
   "name": "python3"
  },
  "language_info": {
   "codemirror_mode": {
    "name": "ipython",
    "version": 3
   },
   "file_extension": ".py",
   "mimetype": "text/x-python",
   "name": "python",
   "nbconvert_exporter": "python",
   "pygments_lexer": "ipython3",
   "version": "3.9.7"
  }
 },
 "nbformat": 4,
 "nbformat_minor": 2
}
